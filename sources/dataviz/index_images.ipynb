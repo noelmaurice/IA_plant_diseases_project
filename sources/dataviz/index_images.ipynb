{
 "metadata": {
  "language_info": {
   "codemirror_mode": {
    "name": "ipython",
    "version": 3
   },
   "file_extension": ".py",
   "mimetype": "text/x-python",
   "name": "python",
   "nbconvert_exporter": "python",
   "pygments_lexer": "ipython3",
   "version": "3.8.5-final"
  },
  "orig_nbformat": 2,
  "kernelspec": {
   "name": "python3",
   "language": "python",
   "display_name": "Python 3"
  }
 },
 "nbformat": 4,
 "nbformat_minor": 2,
 "cells": [
  {
   "cell_type": "code",
   "execution_count": 1,
   "metadata": {},
   "outputs": [
    {
     "ename": "AttributeError",
     "evalue": "module 'ressources' has no attribute 'os_separator'",
     "output_type": "error",
     "traceback": [
      "\u001B[1;31m---------------------------------------------------------------------------\u001B[0m",
      "\u001B[1;31mAttributeError\u001B[0m                            Traceback (most recent call last)",
      "\u001B[1;32m<ipython-input-1-2a1c1955f709>\u001B[0m in \u001B[0;36m<module>\u001B[1;34m\u001B[0m\n\u001B[0;32m      7\u001B[0m \u001B[1;33m\u001B[0m\u001B[0m\n\u001B[0;32m      8\u001B[0m \u001B[1;31m# initialisation\u001B[0m\u001B[1;33m\u001B[0m\u001B[1;33m\u001B[0m\u001B[1;33m\u001B[0m\u001B[0m\n\u001B[1;32m----> 9\u001B[1;33m \u001B[0msep_os\u001B[0m \u001B[1;33m=\u001B[0m \u001B[0mres\u001B[0m\u001B[1;33m.\u001B[0m\u001B[0mos_separator\u001B[0m\u001B[1;33m\u001B[0m\u001B[1;33m\u001B[0m\u001B[0m\n\u001B[0m\u001B[0;32m     10\u001B[0m \u001B[0msep\u001B[0m \u001B[1;33m=\u001B[0m \u001B[0mres\u001B[0m\u001B[1;33m.\u001B[0m\u001B[0mcsv_separator\u001B[0m\u001B[1;33m\u001B[0m\u001B[1;33m\u001B[0m\u001B[0m\n\u001B[0;32m     11\u001B[0m \u001B[1;33m\u001B[0m\u001B[0m\n",
      "\u001B[1;31mAttributeError\u001B[0m: module 'ressources' has no attribute 'os_separator'"
     ]
    }
   ],
   "source": [
    "racine = '../..'\n",
    "\n",
    "import sys\n",
    "sys.path.append(racine + \"/sources/lib\")\n",
    "import ressources as res\n",
    "import tools\n",
    "\n",
    "# initialisation\n",
    "sep_os = res.os_separator\n",
    "sep = res.csv_separator"
   ]
  },
  {
   "cell_type": "code",
   "execution_count": null,
   "metadata": {},
   "outputs": [],
   "source": [
    "# les fichiers du dataset sont lus\n",
    "\n",
    "print(res.dir_dataset)\n",
    "\n",
    "filelist = tools.listdirectory(res.dir_dataset)"
   ]
  },
  {
   "cell_type": "code",
   "execution_count": null,
   "metadata": {},
   "outputs": [],
   "source": [
    "# cpu\n",
    "cpuCount = os.cpu_count()\n",
    "print('Nombre de CPU disponibles :', cpuCount)\n",
    "nprocs = cpuCount - 1\n",
    "print('Nombre de CPU utilisés pour le multiprocessing :', nprocs)"
   ]
  },
  {
   "cell_type": "code",
   "execution_count": null,
   "metadata": {},
   "outputs": [],
   "source": [
    "# le fichier d'index des images est créée\n",
    "\n",
    "import multiprocessing as mp\n",
    "import tools # Astuce pour Jupyter + Windows\n",
    "from itertools import repeat\n",
    "\n",
    "if __name__ ==  '__main__': # Astuce pour Jupyter + Windows\n",
    "    # Collecter les métadonnées\n",
    "    pool = mp.Pool(nprocs)\n",
    "\n",
    "    # le fichier workers qui permet de lire les informations d'un fichier est extériorisé\n",
    "    # pour résoudre le problème d'exécution en multi-processing avec jupyter et windows\n",
    "    results = pool.starmap(tools.get_info, zip(filelist, repeat(sep)), 4)\n",
    "\n",
    "    pool.close()\n",
    "    pool.join()\n",
    "\n",
    "    # Stocker les métadonnées dans un fichier exploitable ultérieurement\n",
    "    path_file = racine + sep_os + res.file_index_path\n",
    "    fichier = open(path_file, \"w\")\n",
    "    \n",
    "    try:\n",
    "        head = 'folder' + sep + 'file' + sep + 'ext' + sep + 'size' + sep + 'height' + sep + 'width' + sep + 'channel' + sep + 'color'\n",
    "        fichier.write(head + '\\n')\n",
    "        fichier.write('\\n'.join(results))\n",
    "\n",
    "    finally:\n",
    "        fichier.close()   \n",
    "\n",
    "    print('Fichier index des images -> ', path_file) \n",
    "\n"
   ]
  },
  {
   "cell_type": "code",
   "execution_count": null,
   "metadata": {},
   "outputs": [],
   "source": []
  }
 ]
}