{
 "cells": [
  {
   "cell_type": "code",
   "execution_count": 67,
   "metadata": {
    "id": "xPmNz5apJa6I"
   },
   "outputs": [],
   "source": [
    "# les images vont être ajustées par le CNN de 256*256 à image_size*image_size\n",
    "image_size = 256\n",
    "\n",
    "# nombre epochs a réaliser par itération\n",
    "n_epochs = 0\n",
    "\n",
    "# nombre de classes\n",
    "n_class = 38\n",
    "\n",
    "# plateforme colab\n",
    "is_colab_platform = False"
   ]
  },
  {
   "cell_type": "code",
   "execution_count": 68,
   "metadata": {
    "colab": {
     "base_uri": "https://localhost:8080/"
    },
    "id": "5CUzFIlQ1HGm",
    "outputId": "911ddabd-5c39-44c1-96cc-ee752a1cfebe"
   },
   "outputs": [],
   "source": [
    "if (is_colab_platform == True):\n",
    "  from google.colab import drive\n",
    "  drive.mount('/content/drive', force_remount=True)\n"
   ]
  },
  {
   "cell_type": "code",
   "execution_count": 69,
   "metadata": {
    "colab": {
     "base_uri": "https://localhost:8080/",
     "height": 1000,
     "resources": {
      "http://localhost:8080/nbextensions/google.colab/files.js": {
       "data": "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",
       "headers": [
        [
         "content-type",
         "application/javascript"
        ]
       ],
       "ok": true,
       "status": 200,
       "status_text": "OK"
      }
     }
    },
    "id": "xU1XSHi7Ja6H",
    "outputId": "75aaabf9-50e4-4120-91b9-578ae3aefaed"
   },
   "outputs": [
    {
     "name": "stdout",
     "output_type": "stream",
     "text": [
      "C:\\Users\\NOEL\\dev\\python\\DATA SCIENTIST\\_projet\\data\\cnn_vgg16_256_weights\n",
      "C:\\Users\\NOEL\\dev\\python\\DATA SCIENTIST\\_projet\\data\\cnn_vgg16_256_history\n"
     ]
    }
   ],
   "source": [
    "import os\n",
    "import sys\n",
    "\n",
    "# nom du cnn\n",
    "cnn_name = 'cnn_vgg16'\n",
    "\n",
    "# Follow instructions for using kaggle with colab : https://www.kaggle.com/general/74235\n",
    "if (is_colab_platform == True):\n",
    " \n",
    "    # Extract the json api credentiel from kaggle\n",
    "    # Load it in next cell\n",
    "    ! pip install -q kaggle\n",
    "    from google.colab import files\n",
    "    files.upload()\n",
    "\n",
    "    # Create a kaggle folder\n",
    "    # Copy the json credentiel to it.\n",
    "    ! mkdir ~/.kaggle\n",
    "    ! cp kaggle.json ~/.kaggle/\n",
    "\n",
    "    # Change the permissions of the file.\n",
    "    ! chmod 600 ~/.kaggle/kaggle.json\n",
    "\n",
    "    # Download the dataset zip\n",
    "    ! kaggle datasets download -d vipoooool/new-plant-diseases-dataset\n",
    "\n",
    "    # unzip the dataset zip\n",
    "    ! mkdir dataset\n",
    "    ! unzip new-plant-diseases-dataset.zip -d dataset\n",
    "\n",
    "    # !dir\n",
    "\n",
    "    dataset_train = \"dataset/New Plant Diseases Dataset(Augmented)/New Plant Diseases Dataset(Augmented)/train/\"\n",
    "    dataset_valid = \"dataset/New Plant Diseases Dataset(Augmented)/New Plant Diseases Dataset(Augmented)/valid/\"\n",
    "    dataset_test = \"Dataset/New Plant Diseases Dataset(Augmented)/New Plant Diseases Dataset(Augmented)/test/\"\n",
    "\n",
    "    racine = os.sep + 'content'\n",
    "\n",
    "    weights_path = racine + os.sep + 'drive' + os.sep + 'MyDrive' + os.sep + cnn_name + '_' + str(image_size) + '_weights'\n",
    "    history_path = racine + os.sep + 'drive' + os.sep + 'MyDrive' + os.sep + cnn_name + '_' + str(image_size) + '_history'\n",
    "\n",
    "\n",
    "else:\n",
    "\n",
    "    sys.path.append(os.path.abspath(os.path.join(os.getcwd(), os.pardir)))\n",
    "\n",
    "    from lib import ressources as res\n",
    "    racine = os.path.abspath(os.path.realpath(res.dir_root))\n",
    "\n",
    "    weights_path = res.dir_data + os.sep + cnn_name + '_' + str(image_size) + '_weights'\n",
    "    print(weights_path)\n",
    "\n",
    "    history_path = res.dir_data + os.sep + cnn_name + '_' + str(image_size) + '_history'\n",
    "    print(history_path)\n",
    "\n",
    "    dataset_train = res.dir_dataset_train\n",
    "    dataset_valid = res.dir_dataset_valid\n",
    "    dataset_test = res.dir_dataset_test\n",
    "\n",
    "# os.listdir(dataset_train)"
   ]
  },
  {
   "cell_type": "markdown",
   "metadata": {
    "id": "sWfJFLy61HGn"
   },
   "source": [
    "# Méthodes relatives au CNN\n",
    "## Création du CNN\n",
    "## Sauvegarde des données\n",
    "## Augmentation du jeu de données"
   ]
  },
  {
   "cell_type": "code",
   "execution_count": 70,
   "metadata": {
    "colab": {
     "base_uri": "https://localhost:8080/"
    },
    "id": "bw0I9uC1Ja6I",
    "outputId": "7a90b25a-cf1d-4708-e743-aab91e6d196e"
   },
   "outputs": [
    {
     "name": "stdout",
     "output_type": "stream",
     "text": [
      "Found 70295 images belonging to 38 classes.\n",
      "Found 17572 images belonging to 38 classes.\n"
     ]
    }
   ],
   "source": [
    "from keras.applications.vgg16 import preprocess_input\n",
    "from keras.preprocessing.image import ImageDataGenerator\n",
    "\n",
    "batch_size = 32\n",
    "\n",
    "\n",
    "from keras.applications.vgg16 import preprocess_input\n",
    "\n",
    "train_data_generator = ImageDataGenerator(\n",
    "        preprocessing_function = preprocess_input,\n",
    "        # data augmentation\n",
    "        rotation_range = 10,\n",
    "        width_shift_range = 0.1,\n",
    "        height_shift_range = 0.1,\n",
    "        zoom_range = 1.1,\n",
    "        horizontal_flip = True\n",
    "        )\n",
    "\n",
    "test_data_generator = ImageDataGenerator(\n",
    "    preprocessing_function = preprocess_input)\n",
    "\n",
    "\n",
    "train_set = train_data_generator.flow_from_directory(dataset_train,\n",
    "            target_size = (image_size , image_size), \n",
    "            batch_size = batch_size)\n",
    "\n",
    "test_set = test_data_generator.flow_from_directory(dataset_valid,\n",
    "            target_size = (image_size , image_size), \n",
    "            batch_size = batch_size)\n"
   ]
  },
  {
   "cell_type": "code",
   "execution_count": 71,
   "metadata": {
    "id": "4guqofn9Ja6I"
   },
   "outputs": [],
   "source": [
    "# l'historique d'entrainement est concaténé avec les précédents résultats\n",
    "def concatenate_histories(previous_history, training_history):\n",
    "    \n",
    "    train_accuracy = previous_history['accuracy'] + training_history['accuracy']\n",
    "    val_accuracy = previous_history['val_accuracy'] + training_history['val_accuracy']\n",
    "    train_loss = previous_history['loss'] + training_history['loss']\n",
    "    val_loss = previous_history['val_loss'] + training_history['val_loss']\n",
    "\n",
    "    history = {\n",
    "        'accuracy': train_accuracy,\n",
    "        'val_accuracy': val_accuracy,\n",
    "        'loss': train_loss,\n",
    "        'val_loss': val_loss\n",
    "    }\n",
    "\n",
    "    # retourne l'historique mis à jour\n",
    "    return history"
   ]
  },
  {
   "cell_type": "code",
   "execution_count": 72,
   "metadata": {
    "id": "TVRGeLp-Ja6I"
   },
   "outputs": [],
   "source": [
    "import pickle\n",
    "from shutil import copyfile\n",
    "import fnmatch\n",
    "\n",
    "# enregistre l'historique de l'entrainement et les poids du CNN\n",
    "def save_data(model, new_history=None):\n",
    "\n",
    "    # l'history est mis à jour à partir de training_history et, le cas échéant, de l'historique \n",
    "    # de l'entrainement précédent qui a été enregistré\n",
    "\n",
    "    is_trained = os.path.isfile(history_path)\n",
    "\n",
    "    # le CNN a déjà été entrainé : un historique d'entrainement existe déjà\n",
    "    if (is_trained == True):\n",
    "\n",
    "        previous_history = pickle.load(open(history_path, 'rb'))\n",
    "\n",
    "        # cette fois, le CNN n'a pas été entrainé\n",
    "        if (new_history == None):\n",
    "            history = previous_history\n",
    "        # cette fois-ci, le cnn a été entrainé\n",
    "        else:\n",
    "            history = concatenate_histories(previous_history, new_history)\n",
    "\n",
    "    # c'est le premier entrainement du CNN\n",
    "    else:\n",
    "        history = new_history\n",
    "\n",
    "    # history est enregistré\n",
    "    pickle.dump(history, open(history_path, 'wb'))\n",
    "\n",
    "    # les poids sont enregistrés\n",
    "    model.save_weights(weights_path);\n",
    "\n",
    "    return history\n",
    "\n"
   ]
  },
  {
   "cell_type": "code",
   "execution_count": 73,
   "metadata": {
    "id": "kwCx8GDTJa6I"
   },
   "outputs": [],
   "source": [
    "# le cnn est entrainé\n",
    "def training(model, n_epochs):\n",
    "\n",
    "    steps_per_epoch = train_set.n // train_set.batch_size\n",
    "    validation_step = test_set.n // test_set.batch_size\n",
    "\n",
    "    training_history = model.fit_generator(generator=train_set, \n",
    "                                epochs = n_epochs,\n",
    "                                steps_per_epoch = steps_per_epoch,\n",
    "                                validation_data = test_set,\n",
    "                                validation_steps = validation_step)\n",
    "\n",
    "    if (n_epochs == 0):\n",
    "        history = None\n",
    "    else:\n",
    "        history = training_history.history\n",
    "\n",
    "    # les données sont sauvegardées\n",
    "    # en présence d'entrainement précédents, les historiques sont concaténés avec sauvegarde\n",
    "    history_total = save_data(model, history)\n",
    "\n",
    "    return history_total\n"
   ]
  },
  {
   "cell_type": "markdown",
   "metadata": {
    "id": "47WUdasTwrAe"
   },
   "source": [
    "# Entrainement du CNN"
   ]
  },
  {
   "cell_type": "code",
   "execution_count": 74,
   "metadata": {
    "id": "HLUjuXGNTRyx"
   },
   "outputs": [],
   "source": [
    "# Import des librairies pour le CNN\n",
    "from keras.models import Sequential\n",
    "from keras.layers import Conv2D, MaxPooling2D, Flatten, Dense, Dropout, GlobalAveragePooling2D\n",
    "from keras.applications.vgg16 import VGG16\n",
    "from keras.optimizers import Adam"
   ]
  },
  {
   "cell_type": "code",
   "execution_count": 75,
   "metadata": {
    "colab": {
     "base_uri": "https://localhost:8080/",
     "height": 946
    },
    "id": "CcRQ7jCLJa6I",
    "outputId": "660bf9b8-5762-4692-e4d2-e4647d5ce2a2"
   },
   "outputs": [
    {
     "name": "stdout",
     "output_type": "stream",
     "text": [
      "WARNING:tensorflow:Unresolved object in checkpoint: (root).optimizer.iter\n",
      "WARNING:tensorflow:Unresolved object in checkpoint: (root).optimizer.beta_1\n",
      "WARNING:tensorflow:Unresolved object in checkpoint: (root).optimizer.beta_2\n",
      "WARNING:tensorflow:Unresolved object in checkpoint: (root).optimizer.decay\n",
      "WARNING:tensorflow:Unresolved object in checkpoint: (root).optimizer.learning_rate\n",
      "WARNING:tensorflow:A checkpoint was restored (e.g. tf.train.Checkpoint.restore or tf.keras.Model.load_weights) but not all checkpointed values were used. See above for specific issues. Use expect_partial() on the load status object, e.g. tf.train.Checkpoint.restore(...).expect_partial(), to silence these warnings, or use assert_consumed() to make the check explicit. See https://www.tensorflow.org/guide/checkpoint#loading_mechanics for details.\n",
      "Model: \"sequential_5\"\n",
      "_________________________________________________________________\n",
      "Layer (type)                 Output Shape              Param #   \n",
      "=================================================================\n",
      "vgg16 (Functional)           (None, None, None, 512)   14714688  \n",
      "_________________________________________________________________\n",
      "global_average_pooling2d_5 ( (None, 512)               0         \n",
      "_________________________________________________________________\n",
      "dense_15 (Dense)             (None, 1024)              525312    \n",
      "_________________________________________________________________\n",
      "dropout_10 (Dropout)         (None, 1024)              0         \n",
      "_________________________________________________________________\n",
      "dense_16 (Dense)             (None, 512)               524800    \n",
      "_________________________________________________________________\n",
      "dropout_11 (Dropout)         (None, 512)               0         \n",
      "_________________________________________________________________\n",
      "dense_17 (Dense)             (None, 38)                19494     \n",
      "=================================================================\n",
      "Total params: 15,784,294\n",
      "Trainable params: 1,069,606\n",
      "Non-trainable params: 14,714,688\n",
      "_________________________________________________________________\n"
     ]
    }
   ],
   "source": [
    "\n",
    "\n",
    "# Modèle VGG16\n",
    "base_model = VGG16(weights='imagenet', include_top=False) \n",
    "\n",
    "# freeze les couches du VGG16\n",
    "for layer in base_model.layers: \n",
    "    layer.trainable = False\n",
    "\n",
    "model = Sequential()\n",
    "model.add(base_model) # Ajout du modèle VGG16\n",
    "model.add(GlobalAveragePooling2D()) \n",
    "model.add(Dense(1024,activation='relu'))\n",
    "model.add(Dropout(rate=0.2))\n",
    "model.add(Dense(512, activation='relu'))\n",
    "model.add(Dropout(rate=0.2))\n",
    "model.add(Dense(n_class, activation='softmax'))\n",
    "\n",
    "# le cnn est compilé\n",
    "model.compile(optimizer='adam', loss='categorical_crossentropy', metrics=['accuracy'])\n",
    "\n",
    "# la structure du modèle est affichée\n",
    "model.summary()\n",
    "\n",
    "# le CNN est entrainé\n",
    "for i in range(0, n_epochs):\n",
    "    training(model, 1)\n"
   ]
  },
  {
   "cell_type": "code",
   "execution_count": 76,
   "metadata": {
    "colab": {
     "base_uri": "https://localhost:8080/"
    },
    "id": "DqUB6HUIEeSy",
    "outputId": "bf511b9f-f913-418e-d617-d3e6c40c7df2"
   },
   "outputs": [
    {
     "name": "stdout",
     "output_type": "stream",
     "text": [
      "Model: \"sequential_5\"\n",
      "_________________________________________________________________\n",
      "Layer (type)                 Output Shape              Param #   \n",
      "=================================================================\n",
      "vgg16 (Functional)           (None, None, None, 512)   14714688  \n",
      "_________________________________________________________________\n",
      "global_average_pooling2d_5 ( (None, 512)               0         \n",
      "_________________________________________________________________\n",
      "dense_15 (Dense)             (None, 1024)              525312    \n",
      "_________________________________________________________________\n",
      "dropout_10 (Dropout)         (None, 1024)              0         \n",
      "_________________________________________________________________\n",
      "dense_16 (Dense)             (None, 512)               524800    \n",
      "_________________________________________________________________\n",
      "dropout_11 (Dropout)         (None, 512)               0         \n",
      "_________________________________________________________________\n",
      "dense_17 (Dense)             (None, 38)                19494     \n",
      "=================================================================\n",
      "Total params: 15,784,294\n",
      "Trainable params: 8,149,030\n",
      "Non-trainable params: 7,635,264\n",
      "_________________________________________________________________\n"
     ]
    }
   ],
   "source": [
    "# les couches de convolution précédemment freezed sont partiellement unfreezed :\n",
    "for layer in base_model.layers[-4:]:\n",
    "    layer.trainable = True\n",
    "\n",
    "# model.load_weights(weights_path)\n",
    "\n",
    "# le cnn est compilé\n",
    "model.compile(optimizer=Adam(lr=1e-4), loss='categorical_crossentropy', metrics=['accuracy'])\n",
    "\n",
    "# la structure du modèle est affichée\n",
    "model.summary()\n",
    "\n",
    "# le CNN est entrainé\n",
    "for i in range(0, n_epochs):\n",
    "    training(model, 1)"
   ]
  },
  {
   "cell_type": "code",
   "execution_count": 77,
   "metadata": {
    "colab": {
     "base_uri": "https://localhost:8080/"
    },
    "id": "-l8Ipbx__x8O",
    "outputId": "ad5437e0-b0c6-46c1-99f5-16fe8c81acd6"
   },
   "outputs": [
    {
     "name": "stdout",
     "output_type": "stream",
     "text": [
      "Model: \"sequential_5\"\n",
      "_________________________________________________________________\n",
      "Layer (type)                 Output Shape              Param #   \n",
      "=================================================================\n",
      "vgg16 (Functional)           (None, None, None, 512)   14714688  \n",
      "_________________________________________________________________\n",
      "global_average_pooling2d_5 ( (None, 512)               0         \n",
      "_________________________________________________________________\n",
      "dense_15 (Dense)             (None, 1024)              525312    \n",
      "_________________________________________________________________\n",
      "dropout_10 (Dropout)         (None, 1024)              0         \n",
      "_________________________________________________________________\n",
      "dense_16 (Dense)             (None, 512)               524800    \n",
      "_________________________________________________________________\n",
      "dropout_11 (Dropout)         (None, 512)               0         \n",
      "_________________________________________________________________\n",
      "dense_17 (Dense)             (None, 38)                19494     \n",
      "=================================================================\n",
      "Total params: 15,784,294\n",
      "Trainable params: 8,149,030\n",
      "Non-trainable params: 7,635,264\n",
      "_________________________________________________________________\n"
     ]
    }
   ],
   "source": [
    "# le cnn est compilé\n",
    "model.compile(optimizer=Adam(lr=1e-5), loss='categorical_crossentropy', metrics=['accuracy'])\n",
    "\n",
    "# la structure du modèle est affichée\n",
    "model.summary()\n",
    "\n",
    "# le CNN est entrainé\n",
    "for i in range(0, n_epochs):\n",
    "    training(model, 1)"
   ]
  },
  {
   "cell_type": "markdown",
   "metadata": {},
   "source": [
    "# Dataviz des résultats"
   ]
  },
  {
   "cell_type": "code",
   "execution_count": 78,
   "metadata": {},
   "outputs": [
    {
     "name": "stdout",
     "output_type": "stream",
     "text": [
      "Description mathématique des  27  derniers epochs\n"
     ]
    },
    {
     "data": {
      "text/plain": "        accuracy  val_accuracy       loss   val_loss\ncount  10.000000     10.000000  10.000000  10.000000\nmean    0.936131      0.994188   0.207790   0.017942\nstd     0.004667      0.000563   0.015882   0.001748\nmin     0.925380      0.992942   0.191155   0.015688\n25%     0.935144      0.993852   0.198076   0.016843\n50%     0.937371      0.994479   0.203277   0.017779\n75%     0.938983      0.994536   0.209994   0.018674\nmax     0.940694      0.994706   0.245512   0.021687",
      "text/html": "<div>\n<style scoped>\n    .dataframe tbody tr th:only-of-type {\n        vertical-align: middle;\n    }\n\n    .dataframe tbody tr th {\n        vertical-align: top;\n    }\n\n    .dataframe thead th {\n        text-align: right;\n    }\n</style>\n<table border=\"1\" class=\"dataframe\">\n  <thead>\n    <tr style=\"text-align: right;\">\n      <th></th>\n      <th>accuracy</th>\n      <th>val_accuracy</th>\n      <th>loss</th>\n      <th>val_loss</th>\n    </tr>\n  </thead>\n  <tbody>\n    <tr>\n      <th>count</th>\n      <td>10.000000</td>\n      <td>10.000000</td>\n      <td>10.000000</td>\n      <td>10.000000</td>\n    </tr>\n    <tr>\n      <th>mean</th>\n      <td>0.936131</td>\n      <td>0.994188</td>\n      <td>0.207790</td>\n      <td>0.017942</td>\n    </tr>\n    <tr>\n      <th>std</th>\n      <td>0.004667</td>\n      <td>0.000563</td>\n      <td>0.015882</td>\n      <td>0.001748</td>\n    </tr>\n    <tr>\n      <th>min</th>\n      <td>0.925380</td>\n      <td>0.992942</td>\n      <td>0.191155</td>\n      <td>0.015688</td>\n    </tr>\n    <tr>\n      <th>25%</th>\n      <td>0.935144</td>\n      <td>0.993852</td>\n      <td>0.198076</td>\n      <td>0.016843</td>\n    </tr>\n    <tr>\n      <th>50%</th>\n      <td>0.937371</td>\n      <td>0.994479</td>\n      <td>0.203277</td>\n      <td>0.017779</td>\n    </tr>\n    <tr>\n      <th>75%</th>\n      <td>0.938983</td>\n      <td>0.994536</td>\n      <td>0.209994</td>\n      <td>0.018674</td>\n    </tr>\n    <tr>\n      <th>max</th>\n      <td>0.940694</td>\n      <td>0.994706</td>\n      <td>0.245512</td>\n      <td>0.021687</td>\n    </tr>\n  </tbody>\n</table>\n</div>"
     },
     "execution_count": 78,
     "metadata": {},
     "output_type": "execute_result"
    }
   ],
   "source": [
    "import pandas as pd\n",
    "import numpy as np\n",
    "\n",
    "history = pickle.load(open(history_path, 'rb'))\n",
    "\n",
    "df_history = pd.DataFrame()\n",
    "\n",
    "for key, value in history.items():\n",
    "    df_history[key] = value\n",
    "\n",
    "n_last_history_values = 10\n",
    "\n",
    "# description mathématique des fonctions coûts et des scores du CNN : pour derniers entrainements\n",
    "print('Description mathématique des ', str(df_history.shape[0]), ' derniers epochs')\n",
    "df_history[-n_last_history_values:].describe()"
   ]
  },
  {
   "cell_type": "code",
   "execution_count": 79,
   "metadata": {},
   "outputs": [
    {
     "data": {
      "text/plain": "<Figure size 1008x288 with 2 Axes>",
      "image/png": "[encoded data removed]"
     },
     "metadata": {},
     "output_type": "display_data"
    }
   ],
   "source": [
    "import matplotlib.pyplot as plt\n",
    "%matplotlib inline\n",
    "plt.style.use(\"ggplot\")\n",
    "\n",
    "medianprops = {'color':\"black\"}\n",
    "meanprops = {'marker':'o', 'markeredgecolor':'black',\n",
    "            'markerfacecolor':'firebrick'}\n",
    "\n",
    "plt.figure(figsize=(14, 4))\n",
    "plt.subplot(121)\n",
    "plt.boxplot([df_history[-n_last_history_values:].accuracy, df_history[-n_last_history_values:].val_accuracy],\n",
    "            labels=[\"accuracy\", \"val_accuracy\"],\n",
    "            showfliers=False, \n",
    "            medianprops=medianprops, \n",
    "            vert=True, \n",
    "            patch_artist=True, \n",
    "            showmeans=True, \n",
    "            meanprops=meanprops)\n",
    "\n",
    "plt.title('Distribution : ' + str(len(df_history[-n_last_history_values:])) + ' derniers epochs')\n",
    "plt.xlabel('Score')\n",
    "plt.ylabel('Pourcentage (x 0.01)')\n",
    "# plt.ylim(0.96, 1.0)\n",
    "\n",
    "plt.subplot(122)\n",
    "# Courbe de la précision sur l'échantillon d'entrainement\n",
    "plt.plot(np.arange(len(df_history) - (n_last_history_values - 1) , len(df_history) + 1, 1),\n",
    "         df_history[-n_last_history_values:].accuracy,\n",
    "         label = 'Training Accuracy',\n",
    "         color = 'blue')\n",
    "\n",
    "# Courbe de la précision sur l'échantillon de validation\n",
    "plt.plot(np.arange(len(df_history) - (n_last_history_values - 1) , len(df_history) + 1, 1),\n",
    "         df_history[-n_last_history_values:].val_accuracy, \n",
    "         label = 'Validation Accuracy',\n",
    "         color = 'red')\n",
    "\n",
    "# Labels des axes\n",
    "plt.xlabel('Epochs')\n",
    "plt.ylabel('Accuracy')\n",
    "\n",
    "plt.title('Courbe de performance : ' + str(n_last_history_values) + ' derniers epochs')\n",
    "\n",
    "plt.xlim(len(df_history) - (n_last_history_values - 1) , len(df_history) + 1)\n",
    "# plt.ylim(0.96, 1.0)\n",
    "\n",
    "# Affichage de la légende\n",
    "plt.legend()\n",
    "\n",
    "# Affichage de la figure\n",
    "plt.show();"
   ]
  },
  {
   "cell_type": "markdown",
   "metadata": {},
   "source": [
    "## Compte rendu de l'entrainement du CNN\n",
    "\n",
    "### 7 premières epochs : \n",
    "* Entrainement avec les couches de la partie convolution figées\n",
    "\n",
    "### 10 epochs suivantes : \n",
    "* Entrainement avec les 4 dernières couches de la partie convolution non figées\n",
    "* Ajustement du learning rate avec la valeur = 10e-4\n",
    "\n",
    "### 10 epochs suivantes :\n",
    "* Entrainement avec les 4 dernières couches de la partie convolution non figées\n",
    "* Ajustement du learning rate avec la valeur = 10e-5"
   ]
  },
  {
   "cell_type": "code",
   "execution_count": 80,
   "metadata": {},
   "outputs": [
    {
     "data": {
      "text/plain": "<Figure size 1008x288 with 2 Axes>",
      "image/png": "[encoded data removed]"
     },
     "metadata": {},
     "output_type": "display_data"
    }
   ],
   "source": [
    "plt.figure(figsize=(14, 4))\n",
    "plt.subplot(121)\n",
    "\n",
    "# Courbe de la perte sur l'échantillon d'entrainement\n",
    "plt.plot(np.arange(1 , len(df_history['loss']) + 1, 1),\n",
    "         df_history.loss,\n",
    "         label = 'Training Loss',\n",
    "         color = 'blue')\n",
    "\n",
    "# Courbe de la perte sur l'échantillon de validation\n",
    "plt.plot(np.arange(1 , len(df_history['val_loss']) + 1, 1),\n",
    "         df_history.val_loss, \n",
    "         label = 'Validation Loss',\n",
    "         color = 'red')\n",
    "\n",
    "# Labels des axes\n",
    "plt.xlabel('Epochs')\n",
    "plt.ylabel('Loss')\n",
    "\n",
    "# Affichage de la légende\n",
    "plt.legend()\n",
    "\n",
    "# affichage du titre\n",
    "plt.title('Courbe de perte')\n",
    "\n",
    "plt.subplot(122)\n",
    "\n",
    "# Courbe de la précision sur l'échantillon d'entrainement\n",
    "plt.plot(np.arange(1 , len(df_history['accuracy']) + 1, 1),\n",
    "         df_history.accuracy,\n",
    "         label = 'Training Accuracy',\n",
    "         color = 'blue')\n",
    "\n",
    "# Courbe de la précision sur l'échantillon de validation\n",
    "plt.plot(np.arange(1 , len(df_history['val_accuracy']) + 1, 1),\n",
    "         df_history.val_accuracy, \n",
    "         label = 'Validation Accuracy',\n",
    "         color = 'red')\n",
    "\n",
    "# Labels des axes\n",
    "plt.xlabel('Epochs')\n",
    "plt.ylabel('Accuracy')\n",
    "\n",
    "# Affichage de la légende\n",
    "plt.legend()\n",
    "\n",
    "# affichage du titre\n",
    "plt.title('Courbe de performance')\n",
    "\n",
    "# Affichage de la figure\n",
    "plt.show();\n"
   ]
  },
  {
   "cell_type": "code",
   "execution_count": 81,
   "metadata": {},
   "outputs": [],
   "source": [
    "# Prédictions des classes : https://keras.io/api/applications/\n",
    "# Paragraphe : Extract features from an arbitrary intermediate layer with VGG19\n",
    "\n",
    "from tensorflow.keras.preprocessing import image\n",
    "import numpy as np\n",
    "\n",
    "model.load_weights(weights_path)\n",
    "\n",
    "indice_value_classes = {v: k for k, v in train_set.class_indices.items()}\n",
    "\n",
    "# affiche le résultat des prédictions\n",
    "def predictions(files_to_predict):\n",
    "\n",
    "    # Prédire la classe de chaque fichier\n",
    "    for file in listdirectory(dataset_test):\n",
    "\n",
    "        img = image.load_img(file, target_size=(image_size, image_size))\n",
    "        img = image.img_to_array(img)\n",
    "        img = np.expand_dims(img, axis=0)\n",
    "        img = preprocess_input(img)\n",
    "\n",
    "        predict = model.predict(img)\n",
    "        classe_indices = train_set.class_indices\n",
    "        indice_predict = np.argmax(predict)\n",
    "        trust_rate = predict[0][indice_predict]\n",
    "\n",
    "        file_name = os.path.split(file)[1]\n",
    "\n",
    "        result = '\\n\\nFichier : \\t\\t' + file_name + \\\n",
    "                '\\nClasse prédite : \\t' + indice_value_classes[indice_predict] + \\\n",
    "                '\\nIndice de confiance : \\t' + str(round(trust_rate * 100, 2)) + '%'\n",
    "\n",
    "        print(result)\n"
   ]
  },
  {
   "cell_type": "code",
   "execution_count": 82,
   "metadata": {
    "pycharm": {
     "name": "#%%\n"
    }
   },
   "outputs": [
    {
     "name": "stdout",
     "output_type": "stream",
     "text": [
      "\n",
      "\n",
      "Fichier : \t\tAppleCedarRust1.JPG\n",
      "Classe prédite : \tApple___Cedar_apple_rust\n",
      "Indice de confiance : \t100.0%\n",
      "\n",
      "\n",
      "Fichier : \t\tAppleCedarRust2.JPG\n",
      "Classe prédite : \tApple___Cedar_apple_rust\n",
      "Indice de confiance : \t100.0%\n",
      "\n",
      "\n",
      "Fichier : \t\tAppleCedarRust3.JPG\n",
      "Classe prédite : \tApple___Cedar_apple_rust\n",
      "Indice de confiance : \t100.0%\n",
      "\n",
      "\n",
      "Fichier : \t\tAppleCedarRust4.JPG\n",
      "Classe prédite : \tApple___Cedar_apple_rust\n",
      "Indice de confiance : \t100.0%\n",
      "\n",
      "\n",
      "Fichier : \t\tAppleScab1.JPG\n",
      "Classe prédite : \tApple___Apple_scab\n",
      "Indice de confiance : \t100.0%\n",
      "\n",
      "\n",
      "Fichier : \t\tAppleScab2.JPG\n",
      "Classe prédite : \tApple___Apple_scab\n",
      "Indice de confiance : \t100.0%\n",
      "\n",
      "\n",
      "Fichier : \t\tAppleScab3.JPG\n",
      "Classe prédite : \tApple___Apple_scab\n",
      "Indice de confiance : \t100.0%\n",
      "\n",
      "\n",
      "Fichier : \t\tCornCommonRust1.JPG\n",
      "Classe prédite : \tCorn_(maize)___Common_rust_\n",
      "Indice de confiance : \t100.0%\n",
      "\n",
      "\n",
      "Fichier : \t\tCornCommonRust2.JPG\n",
      "Classe prédite : \tCorn_(maize)___Common_rust_\n",
      "Indice de confiance : \t100.0%\n",
      "\n",
      "\n",
      "Fichier : \t\tCornCommonRust3.JPG\n",
      "Classe prédite : \tCorn_(maize)___Common_rust_\n",
      "Indice de confiance : \t100.0%\n",
      "\n",
      "\n",
      "Fichier : \t\tPotatoEarlyBlight1.JPG\n",
      "Classe prédite : \tPotato___Early_blight\n",
      "Indice de confiance : \t100.0%\n",
      "\n",
      "\n",
      "Fichier : \t\tPotatoEarlyBlight2.JPG\n",
      "Classe prédite : \tPotato___Early_blight\n",
      "Indice de confiance : \t100.0%\n",
      "\n",
      "\n",
      "Fichier : \t\tPotatoEarlyBlight3.JPG\n",
      "Classe prédite : \tPotato___Early_blight\n",
      "Indice de confiance : \t99.99%\n",
      "\n",
      "\n",
      "Fichier : \t\tPotatoEarlyBlight4.JPG\n",
      "Classe prédite : \tPotato___Early_blight\n",
      "Indice de confiance : \t100.0%\n",
      "\n",
      "\n",
      "Fichier : \t\tPotatoEarlyBlight5.JPG\n",
      "Classe prédite : \tPotato___Early_blight\n",
      "Indice de confiance : \t100.0%\n",
      "\n",
      "\n",
      "Fichier : \t\tPotatoHealthy1.JPG\n",
      "Classe prédite : \tPotato___healthy\n",
      "Indice de confiance : \t100.0%\n",
      "\n",
      "\n",
      "Fichier : \t\tPotatoHealthy2.JPG\n",
      "Classe prédite : \tPotato___healthy\n",
      "Indice de confiance : \t100.0%\n",
      "\n",
      "\n",
      "Fichier : \t\tTomatoEarlyBlight1.JPG\n",
      "Classe prédite : \tTomato___Early_blight\n",
      "Indice de confiance : \t67.49%\n",
      "\n",
      "\n",
      "Fichier : \t\tTomatoEarlyBlight2.JPG\n",
      "Classe prédite : \tTomato___Early_blight\n",
      "Indice de confiance : \t98.32%\n",
      "\n",
      "\n",
      "Fichier : \t\tTomatoEarlyBlight3.JPG\n",
      "Classe prédite : \tTomato___Early_blight\n",
      "Indice de confiance : \t85.37%\n",
      "\n",
      "\n",
      "Fichier : \t\tTomatoEarlyBlight4.JPG\n",
      "Classe prédite : \tTomato___Early_blight\n",
      "Indice de confiance : \t100.0%\n",
      "\n",
      "\n",
      "Fichier : \t\tTomatoEarlyBlight5.JPG\n",
      "Classe prédite : \tTomato___Early_blight\n",
      "Indice de confiance : \t100.0%\n",
      "\n",
      "\n",
      "Fichier : \t\tTomatoEarlyBlight6.JPG\n",
      "Classe prédite : \tTomato___Early_blight\n",
      "Indice de confiance : \t95.31%\n",
      "\n",
      "\n",
      "Fichier : \t\tTomatoHealthy1.JPG\n",
      "Classe prédite : \tTomato___healthy\n",
      "Indice de confiance : \t100.0%\n",
      "\n",
      "\n",
      "Fichier : \t\tTomatoHealthy2.JPG\n",
      "Classe prédite : \tTomato___healthy\n",
      "Indice de confiance : \t100.0%\n",
      "\n",
      "\n",
      "Fichier : \t\tTomatoHealthy3.JPG\n",
      "Classe prédite : \tTomato___healthy\n",
      "Indice de confiance : \t100.0%\n",
      "\n",
      "\n",
      "Fichier : \t\tTomatoHealthy4.JPG\n",
      "Classe prédite : \tTomato___healthy\n",
      "Indice de confiance : \t100.0%\n",
      "\n",
      "\n",
      "Fichier : \t\tTomatoYellowCurlVirus1.JPG\n",
      "Classe prédite : \tTomato___Tomato_Yellow_Leaf_Curl_Virus\n",
      "Indice de confiance : \t100.0%\n",
      "\n",
      "\n",
      "Fichier : \t\tTomatoYellowCurlVirus2.JPG\n",
      "Classe prédite : \tTomato___Tomato_Yellow_Leaf_Curl_Virus\n",
      "Indice de confiance : \t100.0%\n",
      "\n",
      "\n",
      "Fichier : \t\tTomatoYellowCurlVirus3.JPG\n",
      "Classe prédite : \tTomato___Tomato_Yellow_Leaf_Curl_Virus\n",
      "Indice de confiance : \t100.0%\n",
      "\n",
      "\n",
      "Fichier : \t\tTomatoYellowCurlVirus4.JPG\n",
      "Classe prédite : \tTomato___Tomato_Yellow_Leaf_Curl_Virus\n",
      "Indice de confiance : \t100.0%\n",
      "\n",
      "\n",
      "Fichier : \t\tTomatoYellowCurlVirus5.JPG\n",
      "Classe prédite : \tTomato___Tomato_Yellow_Leaf_Curl_Virus\n",
      "Indice de confiance : \t100.0%\n",
      "\n",
      "\n",
      "Fichier : \t\tTomatoYellowCurlVirus6.JPG\n",
      "Classe prédite : \tTomato___Tomato_Yellow_Leaf_Curl_Virus\n",
      "Indice de confiance : \t100.0%\n",
      "\n",
      "\n",
      "Fichier : \t\t_chat.jpg\n",
      "Classe prédite : \tTomato___Late_blight\n",
      "Indice de confiance : \t96.3%\n",
      "\n",
      "\n",
      "Fichier : \t\t_visage_femme.jpg\n",
      "Classe prédite : \tStrawberry___Leaf_scorch\n",
      "Indice de confiance : \t99.14%\n"
     ]
    }
   ],
   "source": [
    "# Récupérer la liste des fichiers à prédire\n",
    "from lib.tools import listdirectory\n",
    "\n",
    "# le jeu de données de test sert à évaluer les prédictions du CNN\n",
    "predictions(listdirectory(dataset_test))\n",
    "\n"
   ]
  }
 ],
 "metadata": {
  "accelerator": "GPU",
  "colab": {
   "collapsed_sections": [],
   "name": "cnn_vgg_16_transfer_learning.ipynb",
   "provenance": []
  },
  "kernelspec": {
   "name": "python3",
   "language": "python",
   "display_name": "Python 3"
  },
  "language_info": {
   "codemirror_mode": {
    "name": "ipython",
    "version": 3
   },
   "file_extension": ".py",
   "mimetype": "text/x-python",
   "name": "python",
   "nbconvert_exporter": "python",
   "pygments_lexer": "ipython3",
   "version": "3.8.5"
  }
 },
 "nbformat": 4,
 "nbformat_minor": 1
}